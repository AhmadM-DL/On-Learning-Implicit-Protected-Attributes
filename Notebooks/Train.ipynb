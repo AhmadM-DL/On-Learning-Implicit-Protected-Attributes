{
  "cells": [
    {
      "cell_type": "code",
      "execution_count": null,
      "metadata": {
        "id": "8iSFjXqaG_8A"
      },
      "outputs": [],
      "source": [
        "from google.colab import drive\n",
        "drive.mount('/content/drive')"
      ]
    },
    {
      "cell_type": "code",
      "execution_count": null,
      "metadata": {
        "id": "NgJi5I9ylHrf"
      },
      "outputs": [],
      "source": [
        "%cd \"/content\"\n",
        "!rm -r -f \"On-Learning-Implicit-Protected-Attributes\"\n",
        "!git clone https://github.com/AhmadM-DL/On-Learning-Implicit-Protected-Attributes\n",
        "!pip install -r On-Learning-Implicit-Protected-Attributes/requirments.txt"
      ]
    },
    {
      "cell_type": "code",
      "execution_count": 4,
      "metadata": {
        "id": "5x9mm2_r_scm"
      },
      "outputs": [],
      "source": [
        "import sys, os, importlib\n",
        "sys.path.append(\"/content/On-Learning-Implicit-Protected-Attributes\")\n",
        "from train import train\n",
        "from eval import eval \n",
        "from utils import plot_aur_roc_curves\n",
        "import os"
      ]
    },
    {
      "cell_type": "code",
      "execution_count": null,
      "metadata": {
        "id": "1om4n5etnQ-F"
      },
      "outputs": [],
      "source": [
        "%%capture\n",
        "!unzip \"/content/drive/MyDrive/.../CheXpert-v1.0-small.zip\"\n",
        "!mv \"/content/CheXpert-v1.0-small\" \"/content/On-Learning-Implicit-Protected-Attributes/Datasets/Chexpert\""
      ]
    },
    {
      "cell_type": "code",
      "execution_count": null,
      "metadata": {
        "id": "ig9dj6N84J2O"
      },
      "outputs": [],
      "source": [
        "%cd \"/content/On-Learning-Implicit-Protected-Attributes\""
      ]
    },
    {
      "cell_type": "code",
      "execution_count": null,
      "metadata": {
        "id": "V9QhwC-7m-0N"
      },
      "outputs": [],
      "source": [
        "train(dataset= \"chexpert_race\", \n",
        "      split_file= \"/content/On-Learning-Implicit-Protected-Attributes/Datasets/Chexpert/Splits/one_image_per_patient_0.8_0.1_0.1.csv\",\n",
        "      tag= \"Race_ImageNet_Freezed\",\n",
        "      model_name= \"densenet121\",\n",
        "      seed= 666,\n",
        "      weights= \"imagenet\",\n",
        "      n_labels= 3,\n",
        "      freeze= -2,\n",
        "      resume= False,\n",
        "      output_dir= \"/content/drive/MyDrive/.../Ex_1\",\n",
        "      multi_label= False,\n",
        "      verbose=1\n",
        "      )"
      ]
    },
    {
      "cell_type": "code",
      "execution_count": null,
      "metadata": {
        "colab": {
          "base_uri": "https://localhost:8080/"
        },
        "id": "8wo6AJZGaYIi",
        "outputId": "ec12beac-2d72-4e7f-e7e7-2659770099c3"
      },
      "outputs": [
        {
          "name": "stdout",
          "output_type": "stream",
          "text": [
            "Found 12659 validated image filenames.\n"
          ]
        }
      ],
      "source": [
        "m = eval(dataset= \"chexpert_pathology\", \n",
        "     split_path= \"/content/On-Learning-Implicit-Protected-Attributes/Datasets/Chexpert/Splits/chexpert_split_0.672_0.12_0.208.csv\",\n",
        "     model_name= \"densenet121\",\n",
        "     pretrain_model_path = \"/content/drive/MyDrive/..../Ex_1/checkpoints/pathology_imageNet_320x320_train(80.0)_valid(10.0)_test(9.96)_densenet121_best.hdf5\",\n",
        "     output_dir = \"/content/output\",\n",
        "     multilabel = True)"
      ]
    },
    {
      "cell_type": "code",
      "execution_count": null,
      "metadata": {
        "id": "jNhrrhx8MY3Q"
      },
      "outputs": [],
      "source": [
        "%load_ext tensorboard\n",
        "%tensorboard --logdir \"/content/drive/MyDrive/.../Ex_1/logs\""
      ]
    },
    {
      "cell_type": "code",
      "source": [
        ""
      ],
      "metadata": {
        "id": "-4XBlVZV94rp"
      },
      "execution_count": null,
      "outputs": []
    }
  ],
  "metadata": {
    "accelerator": "GPU",
    "colab": {
      "collapsed_sections": [],
      "machine_shape": "hm",
      "name": "Train.ipynb",
      "provenance": []
    },
    "kernelspec": {
      "display_name": "Python 3",
      "name": "python3"
    },
    "language_info": {
      "name": "python"
    }
  },
  "nbformat": 4,
  "nbformat_minor": 0
}